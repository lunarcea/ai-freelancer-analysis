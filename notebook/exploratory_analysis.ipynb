{
 "cells": [
  {
   "cell_type": "markdown",
   "metadata": {},
   "source": [
    "# Exploratory Analysis: Skill Metrics in Digital Labor Markets\n",
    "    \n",
    "    \n",
    " This notebook explores the skill metrics data and examines relationships between skill characteristics and market outcomes."
   ]
  },
  {
   "cell_type": "code",
   "execution_count": null,
   "metadata": {},
   "outputs": [],
   "source": [
    "# Import necessary libraries\n",
    "import pandas as pd\n",
    "import numpy as np\n",
    "import matplotlib.pyplot as plt\n",
    "import seaborn as sns\n",
    "from scipy import stats\n",
    "import sys\n",
    "\n",
    "# Add the src directory to path so we can import our modules\n",
    "sys.path.append('../src/python/')\n",
    "\n",
    "# Import our custom modules\n",
    "from skill_metrics_processor import SkillDepthCalculator, calculate_skill_diversity\n",
    "from visualization_generator import plot_time_series, plot_relationship_skill_metric_outcome\n",
    "\n",
    "# Set plot style\n",
    "plt.style.use('seaborn-whitegrid')\n",
    "sns.set_palette('Set2')\n",
    "plt.rcParams['figure.figsize'] = (12, 8)\n",
    "%matplotlib inline"
   ]
  },
  {
   "cell_type": "markdown",
   "metadata": {},
   "source": [
    "## 1. Load and Examine the Data\n",
    "\n",
    "First, we'll load the processed skill metrics data and examine its structure."
   ]
  },
  {
   "cell_type": "code",
   "execution_count": null,
   "metadata": {},
   "outputs": [],
   "source": [
    "# Load data\n",
    "# df = pd.read_csv('../data/input/your_data_file.csv')\n",
    "\n",
    "# Convert date columns to datetime\n",
    "date_columns = [col for col in df.columns if 'date' in col.lower()]\n",
    "for col in date_columns:\n",
    "    df[col] = pd.to_datetime(df[col])\n",
    "\n",
    "# Display info about the dataset\n",
    "print(f\"Dataset shape: {df.shape}\")\n",
    "print(\"\\nData types:\")\n",
    "print(df.dtypes)\n",
    "\n",
    "# Display first few rows\n",
    "df.head()"
   ]
  },
  {
   "cell_type": "markdown",
   "metadata": {},
   "source": [
    "## 2. Data Preparation\n",
    "\n",
    "Let's prepare the data for analysis by:"
   ]
  },
  {
   "cell_type": "code",
   "execution_count": null,
   "metadata": {},
   "outputs": [],
   "source": [
    "# Check for missing values\n",
    "missing_values = df.isnull().sum()\n",
    "print(\"Missing values by column:\")\n",
    "print(missing_values[missing_values > 0])\n",
    "\n",
    "# Define reference date (e.g., policy change, technology adoption date)\n",
    "reference_date = pd.to_datetime('2023-01-01')  # Replace with actual reference date\n",
    "\n",
    "# Create period indicator (before/after reference date)\n",
    "df['period'] = (df['date'] >= reference_date).astype(int)\n",
    "\n",
    "# Filter to relevant time period for analysis\n",
    "analysis_df = df[\n",
    "    (df['date'] >= reference_date - pd.Timedelta(days=90)) & \n",
    "    (df['date'] <= reference_date + pd.Timedelta(days=90))\n",
    "].copy()\n",
    "\n",
    "# Handle outliers in skill metrics\n",
    "for metric in ['individual_skill_depth', 'skill_diversity']:\n",
    "    if metric in analysis_df.columns:\n",
    "        # Calculate z-scores\n",
    "        z_scores = stats.zscore(analysis_df[metric].fillna(0))\n",
    "        # Filter out extreme outliers (z > 3)\n",
    "        analysis_df = analysis_df[abs(z_scores) < 3]\n",
    "\n",
    "print(f\"Analysis dataset shape after filtering: {analysis_df.shape}\")"
   ]
  },
  {
   "cell_type": "markdown",
   "metadata": {},
   "source": [
    "## 3. Descriptive Statistics\n",
    "\n",
    "Let's examine the distributions and summary statistics of our key metrics."
   ]
  },
  {
   "cell_type": "code",
   "execution_count": null,
   "metadata": {},
   "outputs": [],
   "source": [
    "# Summary statistics for key metrics\n",
    "metrics = ['individual_skill_depth', 'accumulated_skill_count', 'skill_diversity']\n",
    "metrics = [m for m in metrics if m in analysis_df.columns]\n",
    "\n",
    "print(\"Overall Summary Statistics:\")\n",
    "print(analysis_df[metrics].describe())\n",
    "\n",
    "# Compare before and after reference date\n",
    "print(\"\\nBefore Reference Date:\")\n",
    "print(analysis_df[analysis_df['period'] == 0][metrics].describe())\n",
    "\n",
    "print(\"\\nAfter Reference Date:\")\n",
    "print(analysis_df[analysis_df['period'] == 1][metrics].describe())\n",
    "\n",
    "# Visualize distributions\n",
    "fig, axes = plt.subplots(1, len(metrics), figsize=(15, 5))\n",
    "\n",
    "for i, metric in enumerate(metrics):\n",
    "    sns.histplot(\n",
    "        data=analysis_df, \n",
    "        x=metric, \n",
    "        hue='period',\n",
    "        kde=True,\n",
    "        ax=axes[i]\n",
    "    )\n",
    "    axes[i].set_title(f'Distribution of {metric}')\n",
    "    axes[i].legend(['Before', 'After'])\n",
    "\n",
    "plt.tight_layout()\n",
    "plt.show()"
   ]
  },
  {
   "cell_type": "markdown",
   "metadata": {},
   "source": [
    "## 4. Time Series Analysis\n",
    "\n",
    "Let's examine how skill metrics change over time, particularly around the reference date."
   ]
  },
  {
   "cell_type": "code",
   "execution_count": null,
   "metadata": {},
   "outputs": [],
   "source": [
    "# Time series of skill depth\n",
    "if 'individual_skill_depth' in analysis_df.columns:\n",
    "    depth_plot = plot_time_series(\n",
    "        df=analysis_df,\n",
    "        metric_column='individual_skill_depth',\n",
    "        title='Skill Depth Over Time',\n",
    "        reference_date=reference_date\n",
    "    )\n",
    "    plt.show()\n",
    "\n",
    "# Time series of skill diversity\n",
    "if 'skill_diversity' in analysis_df.columns:\n",
    "    diversity_plot = plot_time_series(\n",
    "        df=analysis_df,\n",
    "        metric_column='skill_diversity',\n",
    "        title='Skill Diversity Over Time',\n",
    "        reference_date=reference_date\n",
    "    )\n",
    "    plt.show()"
   ]
  },
  {
   "cell_type": "markdown",
   "metadata": {},
   "source": [
    "## 5. Relationship Between Skill Metrics and Outcomes\n",
    "\n",
    "Now let's examine how skill metrics relate to important market outcomes."
   ]
  },
  {
   "cell_type": "code",
   "execution_count": null,
   "metadata": {},
   "outputs": [],
   "source": [
    "# Relationship between skill depth and success rate\n",
    "if 'individual_skill_depth' in analysis_df.columns and 'success_rate' in analysis_df.columns:\n",
    "    depth_success_plot = plot_relationship_skill_metric_outcome(\n",
    "        df=analysis_df,\n",
    "        x_metric='individual_skill_depth',\n",
    "        y_outcome='success_rate',\n",
    "        x_label='Skill Depth',\n",
    "        y_label='Success Rate',\n",
    "        title='Relationship Between Skill Depth and Success Rate'\n",
    "    )\n",
    "    plt.show()\n",
    "\n",
    "# Relationship between skill diversity and earnings\n",
    "if 'skill_diversity' in analysis_df.columns and 'earnings' in analysis_df.columns:\n",
    "    diversity_earnings_plot = plot_relationship_skill_metric_outcome(\n",
    "        df=analysis_df,\n",
    "        x_metric='skill_diversity',\n",
    "        y_outcome='earnings',\n",
    "        x_label='Skill Diversity',\n",
    "        y_label='Earnings',\n",
    "        title='Relationship Between Skill Diversity and Earnings'\n",
    "    )\n",
    "    plt.show()"
   ]
  },
  {
   "cell_type": "markdown",
   "metadata": {},
   "source": [
    "## 6. User Segmentation\n",
    "\n",
    "Let's segment users based on their skill characteristics to understand different profiles."
   ]
  },
  {
   "cell_type": "code",
   "execution_count": null,
   "metadata": {},
   "outputs": [],
   "source": [
    "# Create segments based on skill depth and diversity\n",
    "if 'individual_skill_depth' in analysis_df.columns and 'skill_diversity' in analysis_df.columns:\n",
    "    # Calculate medians for segmentation\n",
    "    depth_median = analysis_df['individual_skill_depth'].median()\n",
    "    diversity_median = analysis_df['skill_diversity'].median()\n",
    "    \n",
    "    # Create segment labels\n",
    "    analysis_df['depth_segment'] = np.where(analysis_df['individual_skill_depth'] >= depth_median, 'High', 'Low')\n",
    "    analysis_df['diversity_segment'] = np.where(analysis_df['skill_diversity'] >= diversity_median, 'High', 'Low')\n",
    "    \n",
    "    # Combine segments\n",
    "    analysis_df['user_segment'] = analysis_df['depth_segment'] + '-' + analysis_df['diversity_segment']\n",
    "    \n",
    "    # Count users in each segment\n",
    "    segment_counts = analysis_df.groupby(['period', 'user_segment']).size().unstack()\n",
    "    print(\"User counts by segment and period:\")\n",
    "    print(segment_counts)\n",
    "    \n",
    "    # Plot segments\n",
    "    plt.figure(figsize=(12, 8))\n",
    "    sns.scatterplot(\n",
    "        data=analysis_df,\n",
    "        x='individual_skill_depth',\n",
    "        y='skill_diversity',\n",
    "        hue='user_segment',\n",
    "        style='period',\n",
    "        alpha=0.7\n",
    "    )\n",
    "    plt.axvline(x=depth_median, color='gray', linestyle='--')\n",
    "    plt.axhline(y=diversity_median, color='gray', linestyle='--')\n",
    "    plt.title('User Segmentation by Skill Characteristics')\n",
    "    plt.xlabel('Skill Depth')\n",
    "    plt.ylabel('Skill Diversity')\n",
    "    plt.legend(title='Segment')\n",
    "    plt.show()"
   ]
  },
  {
   "cell_type": "markdown",
   "metadata": {},
   "source": [
    "## 7. Statistical Tests\n",
    "\n",
    "Perform statistical tests to validate findings."
   ]
  },
  {
   "cell_type": "code",
   "execution_count": null,
   "metadata": {},
   "outputs": [],
   "source": [
    "# T-test comparing skill metrics before and after reference date\n",
    "for metric in metrics:\n",
    "    before = analysis_df[analysis_df['period'] == 0][metric].dropna()\n",
    "    after = analysis_df[analysis_df['period'] == 1][metric].dropna()\n",
    "    \n",
    "    # Only perform test if we have sufficient data\n",
    "    if len(before) > 30 and len(after) > 30:\n",
    "        t_stat, p_value = stats.ttest_ind(before, after, equal_var=False)\n",
    "        print(f\"T-test for {metric}:\")\n",
    "        print(f\"  t-statistic: {t_stat:.4f}\")\n",
    "        print(f\"  p-value: {p_value:.4f}\")\n",
    "        print(f\"  Mean before: {before.mean():.4f}\")\n",
    "        print(f\"  Mean after: {after.mean():.4f}\")\n",
    "        print(f\"  Mean difference: {after.mean() - before.mean():.4f}\")\n",
    "        print(f\"  Significant difference: {'Yes' if p_value < 0.05 else 'No'}\\n\")"
   ]
  },
  {
   "cell_type": "markdown",
   "metadata": {},
   "source": [
    "## 8. Conclusions\n",
    "\n",
    "Based on the exploratory analysis, we can draw the following conclusions:\n",
    "\n",
    "1. **Changes in Skill Metrics**: [Your findings about how skill depth and diversity changed over time]\n",
    "\n",
    "2. **Relationship with Outcomes**: [Your findings about relationships between skill metrics and outcomes]\n",
    "\n",
    "3. **User Segments**: [Your findings about different user segments and their characteristics]\n",
    "\n",
    "4. **Statistical Significance**: [Summary of statistical test results]\n",
    "\n",
    "These findings suggest [broader implications for the research question].\n",
    "\n",
    "### Next Steps\n",
    "\n",
    "1. Conduct formal regression analysis using the Stata scripts\n",
    "2. Explore additional metrics and relationships\n",
    "3. Investigate heterogeneous effects across different user segments\n",
    "4. Create visualizations for presentation and publication"
   ]
  },
  {
   "cell_type": "code",
   "execution_count": null,
   "metadata": {},
   "outputs": [],
   "source": []
  }
 ],
 "metadata": {
  "kernelspec": {
   "display_name": "Python 3",
   "language": "python",
   "name": "python3"
  },
  "language_info": {
   "codemirror_mode": {
    "name": "ipython",
    "version": 3
   },
   "file_extension": ".py",
   "mimetype": "text/x-python",
   "name": "python",
   "nbconvert_exporter": "python",
   "pygments_lexer": "ipython3",
   "version": "3.8.5"
  }
 },
 "nbformat": 4,
 "nbformat_minor": 4
}
